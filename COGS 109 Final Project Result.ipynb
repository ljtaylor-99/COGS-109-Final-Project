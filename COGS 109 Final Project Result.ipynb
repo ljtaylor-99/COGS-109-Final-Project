{
 "cells": [
  {
   "cell_type": "code",
   "execution_count": 1,
   "metadata": {},
   "outputs": [],
   "source": [
    "import pandas as pd\n",
    "import matplotlib.pyplot as plt \n",
    "import seaborn as sns\n",
    "import statsmodels.formula.api as stats\n",
    "import numpy as np"
   ]
  },
  {
   "cell_type": "code",
   "execution_count": 2,
   "metadata": {},
   "outputs": [],
   "source": [
    "data = pd.read_csv('COGS109_Stroke.csv')\n",
    "\n",
    "# Drop rows with null values\n",
    "data = data.dropna()\n",
    "\n",
    "# Filter out rows wher stroke = 1\n",
    "# Length = 209\n",
    "stroke = data[data['stroke'] == 1]\n",
    "not_stroke = data[data['stroke'] == 0]\n",
    "\n",
    "# Randomly smaple 209 data points from not stroke to balance data set\n",
    "not_stroke = not_stroke.sample(n = 209,random_state = 1)\n",
    "\n",
    "data = stroke.append(not_stroke)"
   ]
  },
  {
   "cell_type": "code",
   "execution_count": 3,
   "metadata": {},
   "outputs": [],
   "source": [
    "data['Female'] = np.where(data['gender'] == 'Female',1,0)\n",
    "data['Male'] = np.where(data['gender'] == 'Male', 1,0)\n",
    "#data.pop(data['gender'])\n",
    "\n",
    "data['Married'] = np.where(data['ever_married'] == 'Yes',1,0)\n",
    "data['NotMarried'] = np.where(data['ever_married'] == 'No',1,0)\n",
    "#data.pop(data['ever_married'])\n",
    "\n",
    "data['Private'] = np.where(data['work_type'] == 'Private',1,0)\n",
    "data['SelfEmp'] = np.where(data['work_type'] == 'Self-employed',1,0)\n",
    "data['Gov'] = np.where(data['work_type'] == 'Govt_job',1,0)\n",
    "data['Child'] = np.where(data['work_type'] == 'children',1,0)\n",
    "#data.pop(data['work_type'])\n",
    "\n",
    "data['Urban'] = np.where(data['Residence_type'] == 'Urban', 1,0)\n",
    "data['Rural'] = np.where(data['Residence_type'] == 'Rural', 1,0)\n",
    "#data.pop(data['Residence_type'])\n",
    "\n",
    "data['NeverSmoke'] = np.where(data['smoking_status'] == 'never smoked',1,0)\n",
    "data['FormalSmoke'] = np.where(data['smoking_status'] == 'formally smoked',1,0)\n",
    "data['UnknownSmoke'] = np.where(data['smoking_status'] == 'Unknown',1,0)\n",
    "data['Smokes'] = np.where(data['smoking_status'] == 'smokes',1,0)\n",
    "#data.pop(data['smoking_status'])\n",
    "data.rename(columns={'heart_disease': 'HeartDisease'}, inplace=True)\n",
    "data.rename(columns={'avg_glucose_level': 'AvgGlucoseLevel'}, inplace=True)\n"
   ]
  },
  {
   "cell_type": "code",
   "execution_count": 4,
   "metadata": {},
   "outputs": [],
   "source": [
    "#data.pop(data['gender'])\n",
    "data.drop(['gender','ever_married','work_type','Residence_type','smoking_status','FormalSmoke','id','Male','NotMarried','NeverSmoke'], axis = 1,inplace = True)"
   ]
  },
  {
   "cell_type": "code",
   "execution_count": 5,
   "metadata": {},
   "outputs": [
    {
     "data": {
      "text/plain": [
       "Index(['age', 'hypertension', 'HeartDisease', 'AvgGlucoseLevel', 'bmi',\n",
       "       'stroke', 'Female', 'Married', 'Private', 'SelfEmp', 'Gov', 'Child',\n",
       "       'Urban', 'Rural', 'UnknownSmoke', 'Smokes'],\n",
       "      dtype='object')"
      ]
     },
     "execution_count": 5,
     "metadata": {},
     "output_type": "execute_result"
    }
   ],
   "source": [
    "data.columns"
   ]
  },
  {
   "cell_type": "code",
   "execution_count": 6,
   "metadata": {},
   "outputs": [
    {
     "data": {
      "text/plain": [
       "16"
      ]
     },
     "execution_count": 6,
     "metadata": {},
     "output_type": "execute_result"
    }
   ],
   "source": [
    "len(data.columns)"
   ]
  },
  {
   "cell_type": "code",
   "execution_count": 7,
   "metadata": {},
   "outputs": [],
   "source": [
    "# Move stroke column to end\n",
    "col = data.pop(data.columns[5])\n",
    "data.insert(15,'stroke',col)"
   ]
  },
  {
   "cell_type": "code",
   "execution_count": 8,
   "metadata": {},
   "outputs": [],
   "source": [
    "# Shuffle dataset\n",
    "data = data.sample(frac = 1,random_state = 2)"
   ]
  },
  {
   "cell_type": "code",
   "execution_count": 9,
   "metadata": {},
   "outputs": [
    {
     "data": {
      "text/html": [
       "<div>\n",
       "<style scoped>\n",
       "    .dataframe tbody tr th:only-of-type {\n",
       "        vertical-align: middle;\n",
       "    }\n",
       "\n",
       "    .dataframe tbody tr th {\n",
       "        vertical-align: top;\n",
       "    }\n",
       "\n",
       "    .dataframe thead th {\n",
       "        text-align: right;\n",
       "    }\n",
       "</style>\n",
       "<table border=\"1\" class=\"dataframe\">\n",
       "  <thead>\n",
       "    <tr style=\"text-align: right;\">\n",
       "      <th></th>\n",
       "      <th>age</th>\n",
       "      <th>hypertension</th>\n",
       "      <th>HeartDisease</th>\n",
       "      <th>AvgGlucoseLevel</th>\n",
       "      <th>bmi</th>\n",
       "      <th>Female</th>\n",
       "      <th>Married</th>\n",
       "      <th>Private</th>\n",
       "      <th>SelfEmp</th>\n",
       "      <th>Gov</th>\n",
       "      <th>Child</th>\n",
       "      <th>Urban</th>\n",
       "      <th>Rural</th>\n",
       "      <th>UnknownSmoke</th>\n",
       "      <th>Smokes</th>\n",
       "      <th>stroke</th>\n",
       "    </tr>\n",
       "  </thead>\n",
       "  <tbody>\n",
       "    <tr>\n",
       "      <th>179</th>\n",
       "      <td>81.0</td>\n",
       "      <td>0</td>\n",
       "      <td>0</td>\n",
       "      <td>213.22</td>\n",
       "      <td>26.1</td>\n",
       "      <td>0</td>\n",
       "      <td>1</td>\n",
       "      <td>1</td>\n",
       "      <td>0</td>\n",
       "      <td>0</td>\n",
       "      <td>0</td>\n",
       "      <td>1</td>\n",
       "      <td>0</td>\n",
       "      <td>1</td>\n",
       "      <td>0</td>\n",
       "      <td>1</td>\n",
       "    </tr>\n",
       "    <tr>\n",
       "      <th>1893</th>\n",
       "      <td>54.0</td>\n",
       "      <td>0</td>\n",
       "      <td>1</td>\n",
       "      <td>222.46</td>\n",
       "      <td>35.7</td>\n",
       "      <td>0</td>\n",
       "      <td>1</td>\n",
       "      <td>0</td>\n",
       "      <td>0</td>\n",
       "      <td>1</td>\n",
       "      <td>0</td>\n",
       "      <td>1</td>\n",
       "      <td>0</td>\n",
       "      <td>0</td>\n",
       "      <td>0</td>\n",
       "      <td>0</td>\n",
       "    </tr>\n",
       "    <tr>\n",
       "      <th>232</th>\n",
       "      <td>73.0</td>\n",
       "      <td>0</td>\n",
       "      <td>0</td>\n",
       "      <td>70.94</td>\n",
       "      <td>34.4</td>\n",
       "      <td>1</td>\n",
       "      <td>1</td>\n",
       "      <td>0</td>\n",
       "      <td>1</td>\n",
       "      <td>0</td>\n",
       "      <td>0</td>\n",
       "      <td>1</td>\n",
       "      <td>0</td>\n",
       "      <td>0</td>\n",
       "      <td>0</td>\n",
       "      <td>1</td>\n",
       "    </tr>\n",
       "    <tr>\n",
       "      <th>554</th>\n",
       "      <td>5.0</td>\n",
       "      <td>0</td>\n",
       "      <td>0</td>\n",
       "      <td>71.43</td>\n",
       "      <td>19.3</td>\n",
       "      <td>0</td>\n",
       "      <td>0</td>\n",
       "      <td>0</td>\n",
       "      <td>0</td>\n",
       "      <td>0</td>\n",
       "      <td>1</td>\n",
       "      <td>0</td>\n",
       "      <td>1</td>\n",
       "      <td>1</td>\n",
       "      <td>0</td>\n",
       "      <td>0</td>\n",
       "    </tr>\n",
       "    <tr>\n",
       "      <th>226</th>\n",
       "      <td>81.0</td>\n",
       "      <td>0</td>\n",
       "      <td>0</td>\n",
       "      <td>184.40</td>\n",
       "      <td>27.5</td>\n",
       "      <td>1</td>\n",
       "      <td>1</td>\n",
       "      <td>1</td>\n",
       "      <td>0</td>\n",
       "      <td>0</td>\n",
       "      <td>0</td>\n",
       "      <td>0</td>\n",
       "      <td>1</td>\n",
       "      <td>0</td>\n",
       "      <td>0</td>\n",
       "      <td>1</td>\n",
       "    </tr>\n",
       "  </tbody>\n",
       "</table>\n",
       "</div>"
      ],
      "text/plain": [
       "       age  hypertension  HeartDisease  AvgGlucoseLevel   bmi  Female  \\\n",
       "179   81.0             0             0           213.22  26.1       0   \n",
       "1893  54.0             0             1           222.46  35.7       0   \n",
       "232   73.0             0             0            70.94  34.4       1   \n",
       "554    5.0             0             0            71.43  19.3       0   \n",
       "226   81.0             0             0           184.40  27.5       1   \n",
       "\n",
       "      Married  Private  SelfEmp  Gov  Child  Urban  Rural  UnknownSmoke  \\\n",
       "179         1        1        0    0      0      1      0             1   \n",
       "1893        1        0        0    1      0      1      0             0   \n",
       "232         1        0        1    0      0      1      0             0   \n",
       "554         0        0        0    0      1      0      1             1   \n",
       "226         1        1        0    0      0      0      1             0   \n",
       "\n",
       "      Smokes  stroke  \n",
       "179        0       1  \n",
       "1893       0       0  \n",
       "232        0       1  \n",
       "554        0       0  \n",
       "226        0       1  "
      ]
     },
     "execution_count": 9,
     "metadata": {},
     "output_type": "execute_result"
    }
   ],
   "source": [
    "data.head()"
   ]
  },
  {
   "cell_type": "code",
   "execution_count": 10,
   "metadata": {},
   "outputs": [],
   "source": [
    "from sklearn.linear_model import LogisticRegression"
   ]
  },
  {
   "cell_type": "code",
   "execution_count": 11,
   "metadata": {},
   "outputs": [],
   "source": [
    "train = data[:336]\n",
    "test = data[336:]"
   ]
  },
  {
   "cell_type": "code",
   "execution_count": 12,
   "metadata": {},
   "outputs": [
    {
     "data": {
      "text/plain": [
       "1    45\n",
       "0    37\n",
       "Name: stroke, dtype: int64"
      ]
     },
     "execution_count": 12,
     "metadata": {},
     "output_type": "execute_result"
    }
   ],
   "source": [
    "test['stroke'].value_counts()"
   ]
  },
  {
   "cell_type": "code",
   "execution_count": 13,
   "metadata": {},
   "outputs": [
    {
     "data": {
      "text/plain": [
       "37"
      ]
     },
     "execution_count": 13,
     "metadata": {},
     "output_type": "execute_result"
    }
   ],
   "source": [
    "test['stroke'].value_counts()[0]"
   ]
  },
  {
   "cell_type": "code",
   "execution_count": 14,
   "metadata": {},
   "outputs": [],
   "source": [
    "features = []\n",
    "model_acc1 = {}\n",
    "false_pos1 = {}\n",
    "false_neg1 = {}\n",
    "acc1 = []\n",
    "all_fp = []\n",
    "all_fn = []"
   ]
  },
  {
   "cell_type": "code",
   "execution_count": 15,
   "metadata": {},
   "outputs": [],
   "source": [
    "from sklearn.metrics import confusion_matrix"
   ]
  },
  {
   "cell_type": "code",
   "execution_count": 16,
   "metadata": {},
   "outputs": [],
   "source": [
    "# Function for bayesian approach\n",
    "def bayes(column,threshold):\n",
    "    result = []\n",
    "    for num in column:\n",
    "        if num > threshold:\n",
    "            result.append(1)\n",
    "        else:\n",
    "            result.append(0)\n",
    "    return result"
   ]
  },
  {
   "cell_type": "code",
   "execution_count": 17,
   "metadata": {},
   "outputs": [
    {
     "name": "stdout",
     "output_type": "stream",
     "text": [
      "Optimization terminated successfully.\n",
      "         Current function value: 0.480234\n",
      "         Iterations 6\n",
      "Optimization terminated successfully.\n",
      "         Current function value: 0.663594\n",
      "         Iterations 5\n",
      "Optimization terminated successfully.\n",
      "         Current function value: 0.658298\n",
      "         Iterations 6\n",
      "Optimization terminated successfully.\n",
      "         Current function value: 0.643882\n",
      "         Iterations 5\n",
      "Optimization terminated successfully.\n",
      "         Current function value: 0.687127\n",
      "         Iterations 4\n",
      "Optimization terminated successfully.\n",
      "         Current function value: 0.692856\n",
      "         Iterations 3\n",
      "Optimization terminated successfully.\n",
      "         Current function value: 0.640999\n",
      "         Iterations 5\n",
      "Optimization terminated successfully.\n",
      "         Current function value: 0.692687\n",
      "         Iterations 3\n",
      "Optimization terminated successfully.\n",
      "         Current function value: 0.677250\n",
      "         Iterations 4\n",
      "Optimization terminated successfully.\n",
      "         Current function value: 0.692811\n",
      "         Iterations 3\n",
      "Optimization terminated successfully.\n",
      "         Current function value: 0.648785\n",
      "         Iterations 7\n",
      "Optimization terminated successfully.\n",
      "         Current function value: 0.692307\n",
      "         Iterations 3\n",
      "Optimization terminated successfully.\n",
      "         Current function value: 0.692307\n",
      "         Iterations 3\n",
      "Optimization terminated successfully.\n",
      "         Current function value: 0.656651\n",
      "         Iterations 5\n",
      "Optimization terminated successfully.\n",
      "         Current function value: 0.688752\n",
      "         Iterations 4\n",
      "{'age': 0.7926829268292683, 'hypertension': 0.6585365853658537, 'HeartDisease': 0.5365853658536586, 'AvgGlucoseLevel': 0.5365853658536586, 'bmi': 0.4634146341463415, 'Female': 0.45121951219512196, 'Married': 0.6097560975609756, 'Private': 0.45121951219512196, 'SelfEmp': 0.5365853658536586, 'Gov': 0.45121951219512196, 'Child': 0.6097560975609756, 'Urban': 0.5121951219512195, 'Rural': 0.5121951219512195, 'UnknownSmoke': 0.5365853658536586, 'Smokes': 0.45121951219512196}\n",
      "age\n"
     ]
    }
   ],
   "source": [
    "for p in data.columns:\n",
    "        \n",
    "        if p == 'stroke':\n",
    "            continue\n",
    "       \n",
    "        model_1 = stats.logit(formula = 'stroke~'+ p,data = train).fit()\n",
    "        pred_1 = model_1.predict(test[p])\n",
    "        b_result = bayes(pred_1,.5)\n",
    "        \n",
    "        tn1,fp1,fn1,tp1 = confusion_matrix(test['stroke'],b_result).ravel()\n",
    "        accuracy1 = (tp1 + tn1)/( tn1 + fp1 + fn1 + tp1)\n",
    "        false_pos1.update({p:fp1/test['stroke'].value_counts()[1]})\n",
    "        false_neg1.update({p:fn1/test['stroke'].value_counts()[0]})\n",
    "        model_acc1.update({p:accuracy1})\n",
    "        \n",
    "        \n",
    "print(model_acc1)\n",
    "\n",
    "feature1 = max(model_acc1,key = model_acc1.get)\n",
    "features.append(feature1)\n",
    "print(feature1)\n",
    "acc1.append(model_acc1[feature1])\n",
    "all_fp.append(false_pos1[feature1])\n",
    "all_fn.append(false_neg1[feature1])"
   ]
  },
  {
   "cell_type": "code",
   "execution_count": null,
   "metadata": {},
   "outputs": [],
   "source": []
  },
  {
   "cell_type": "code",
   "execution_count": 18,
   "metadata": {},
   "outputs": [
    {
     "name": "stdout",
     "output_type": "stream",
     "text": [
      "['age']\n"
     ]
    }
   ],
   "source": [
    "print(features)"
   ]
  },
  {
   "cell_type": "code",
   "execution_count": 19,
   "metadata": {},
   "outputs": [
    {
     "name": "stdout",
     "output_type": "stream",
     "text": [
      "[0.2222222222222222] [0.1891891891891892]\n"
     ]
    }
   ],
   "source": [
    "print(all_fp,all_fn)"
   ]
  },
  {
   "cell_type": "code",
   "execution_count": 20,
   "metadata": {},
   "outputs": [
    {
     "name": "stdout",
     "output_type": "stream",
     "text": [
      "Optimization terminated successfully.\n",
      "         Current function value: 0.480234\n",
      "         Iterations 6\n",
      "Optimization terminated successfully.\n",
      "         Current function value: 0.480234\n",
      "         Iterations 6\n",
      "Optimization terminated successfully.\n",
      "         Current function value: 0.480234\n",
      "         Iterations 6\n",
      "Optimization terminated successfully.\n",
      "         Current function value: 0.480234\n",
      "         Iterations 6\n",
      "Optimization terminated successfully.\n",
      "         Current function value: 0.480234\n",
      "         Iterations 6\n",
      "Optimization terminated successfully.\n",
      "         Current function value: 0.480234\n",
      "         Iterations 6\n",
      "Optimization terminated successfully.\n",
      "         Current function value: 0.480234\n",
      "         Iterations 6\n",
      "Optimization terminated successfully.\n",
      "         Current function value: 0.480234\n",
      "         Iterations 6\n",
      "Optimization terminated successfully.\n",
      "         Current function value: 0.480234\n",
      "         Iterations 6\n",
      "Optimization terminated successfully.\n",
      "         Current function value: 0.480234\n",
      "         Iterations 6\n",
      "Optimization terminated successfully.\n",
      "         Current function value: 0.480234\n",
      "         Iterations 6\n",
      "Optimization terminated successfully.\n",
      "         Current function value: 0.480234\n",
      "         Iterations 6\n",
      "Optimization terminated successfully.\n",
      "         Current function value: 0.480234\n",
      "         Iterations 6\n",
      "Optimization terminated successfully.\n",
      "         Current function value: 0.480234\n",
      "         Iterations 6\n",
      "Optimization terminated successfully.\n",
      "         Current function value: 0.472712\n",
      "         Iterations 6\n",
      "Optimization terminated successfully.\n",
      "         Current function value: 0.472712\n",
      "         Iterations 6\n",
      "Optimization terminated successfully.\n",
      "         Current function value: 0.472712\n",
      "         Iterations 6\n",
      "Optimization terminated successfully.\n",
      "         Current function value: 0.472712\n",
      "         Iterations 6\n",
      "Optimization terminated successfully.\n",
      "         Current function value: 0.472712\n",
      "         Iterations 6\n",
      "Optimization terminated successfully.\n",
      "         Current function value: 0.472712\n",
      "         Iterations 6\n",
      "Optimization terminated successfully.\n",
      "         Current function value: 0.472712\n",
      "         Iterations 6\n",
      "Optimization terminated successfully.\n",
      "         Current function value: 0.472712\n",
      "         Iterations 6\n",
      "Optimization terminated successfully.\n",
      "         Current function value: 0.472712\n",
      "         Iterations 6\n",
      "Optimization terminated successfully.\n",
      "         Current function value: 0.472712\n",
      "         Iterations 6\n",
      "Optimization terminated successfully.\n",
      "         Current function value: 0.472712\n",
      "         Iterations 6\n",
      "Optimization terminated successfully.\n",
      "         Current function value: 0.472712\n",
      "         Iterations 6\n",
      "Optimization terminated successfully.\n",
      "         Current function value: 0.472712\n",
      "         Iterations 6\n",
      "Optimization terminated successfully.\n",
      "         Current function value: 0.468611\n",
      "         Iterations 6\n",
      "Optimization terminated successfully.\n",
      "         Current function value: 0.468611\n",
      "         Iterations 6\n",
      "Optimization terminated successfully.\n",
      "         Current function value: 0.468611\n",
      "         Iterations 6\n",
      "Optimization terminated successfully.\n",
      "         Current function value: 0.468611\n",
      "         Iterations 6\n",
      "Optimization terminated successfully.\n",
      "         Current function value: 0.468611\n",
      "         Iterations 6\n",
      "Optimization terminated successfully.\n",
      "         Current function value: 0.468611\n",
      "         Iterations 6\n",
      "Optimization terminated successfully.\n",
      "         Current function value: 0.468611\n",
      "         Iterations 6\n",
      "Optimization terminated successfully.\n",
      "         Current function value: 0.468611\n",
      "         Iterations 6\n",
      "Optimization terminated successfully.\n",
      "         Current function value: 0.468611\n",
      "         Iterations 6\n",
      "Optimization terminated successfully.\n",
      "         Current function value: 0.468611\n",
      "         Iterations 6\n",
      "Optimization terminated successfully.\n",
      "         Current function value: 0.468611\n",
      "         Iterations 6\n",
      "Optimization terminated successfully.\n",
      "         Current function value: 0.468611\n",
      "         Iterations 6\n",
      "Optimization terminated successfully.\n",
      "         Current function value: 0.463377\n",
      "         Iterations 6\n",
      "Optimization terminated successfully.\n",
      "         Current function value: 0.463377\n",
      "         Iterations 6\n",
      "Optimization terminated successfully.\n",
      "         Current function value: 0.463377\n",
      "         Iterations 6\n",
      "Optimization terminated successfully.\n",
      "         Current function value: 0.463377\n",
      "         Iterations 6\n",
      "Optimization terminated successfully.\n",
      "         Current function value: 0.463377\n",
      "         Iterations 6\n",
      "Optimization terminated successfully.\n",
      "         Current function value: 0.463377\n",
      "         Iterations 6\n",
      "Optimization terminated successfully.\n",
      "         Current function value: 0.463377\n",
      "         Iterations 6\n",
      "Optimization terminated successfully.\n",
      "         Current function value: 0.463377\n",
      "         Iterations 6\n",
      "Optimization terminated successfully.\n",
      "         Current function value: 0.463377\n",
      "         Iterations 6\n",
      "Optimization terminated successfully.\n",
      "         Current function value: 0.463377\n",
      "         Iterations 6\n",
      "Optimization terminated successfully.\n",
      "         Current function value: 0.463377\n",
      "         Iterations 6\n"
     ]
    }
   ],
   "source": [
    "\n",
    "# Stepwise selection using logistic regression\n",
    "\n",
    "# Find feature 1\n",
    "formula2 = 'stroke~age'\n",
    "for i in range(4):\n",
    "\n",
    "    model_acc = {}\n",
    "    false_pos = {}\n",
    "    false_neg = {}\n",
    "    for p in data.columns:\n",
    "        if p == 'stroke':\n",
    "            continue\n",
    "        if p in features:\n",
    "            continue\n",
    "        model_2 = stats.logit(formula = formula2,data = train).fit()\n",
    "        pred_2 = model_2.predict(test[features])\n",
    "        b_result2 = bayes(pred_2,.5)\n",
    "   \n",
    "        tn,fp,fn,tp = confusion_matrix(test['stroke'],b_result2).ravel()\n",
    "        accuracy = (tp + tn)/( tn + fp + fn + tp)\n",
    "        model_acc.update({p:accuracy})\n",
    "        false_pos.update({p:fp/test['stroke'].value_counts()[1]})\n",
    "        false_neg.update({p:fn/test['stroke'].value_counts()[0]})\n",
    "        \n",
    "    #Find model with highest accuracy    \n",
    "\n",
    "    feature2 = max(model_acc,key = model_acc.get)\n",
    "    features.append(feature2)\n",
    "    formula2 += '+'\n",
    "    formula2 += feature2\n",
    "    acc1.append(model_acc[feature2])\n",
    "    # False positive\n",
    "    #false_pos.update({p:fp/test['stroke'].value_counts()[1]})\n",
    "    #false_neg.update({p:fn/test['stroke'].value_counts()[0]})\n",
    "    model_acc1.update({p:accuracy1})\n",
    "    all_fp.append(false_pos[feature2])\n",
    "    all_fn.append(false_neg[feature2])\n",
    "    "
   ]
  },
  {
   "cell_type": "code",
   "execution_count": 21,
   "metadata": {},
   "outputs": [
    {
     "name": "stdout",
     "output_type": "stream",
     "text": [
      "[0.2222222222222222, 0.2222222222222222, 0.2, 0.2, 0.2] [0.1891891891891892, 0.1891891891891892, 0.1891891891891892, 0.16216216216216217, 0.21621621621621623]\n"
     ]
    }
   ],
   "source": [
    "print(all_fp,all_fn)"
   ]
  },
  {
   "cell_type": "code",
   "execution_count": null,
   "metadata": {},
   "outputs": [],
   "source": [
    "print(features)\n",
    "print(model_acc)"
   ]
  },
  {
   "cell_type": "code",
   "execution_count": null,
   "metadata": {},
   "outputs": [],
   "source": [
    "print(acc1)"
   ]
  },
  {
   "cell_type": "code",
   "execution_count": 22,
   "metadata": {},
   "outputs": [
    {
     "data": {
      "text/plain": [
       "Text(0.5, 0, 'Number of Features')"
      ]
     },
     "execution_count": 22,
     "metadata": {},
     "output_type": "execute_result"
    },
    {
     "data": {
      "image/png": "[encoded data removed]",
      "text/plain": [
       "<Figure size 432x288 with 1 Axes>"
      ]
     },
     "metadata": {
      "needs_background": "light"
     },
     "output_type": "display_data"
    }
   ],
   "source": [
    "plt.plot(range(1,6),acc1)\n",
    "plt.title('Number of Features vs. Model Accuracy (Bayes = 0.5)')\n",
    "plt.ylabel('Model Accuracy')\n",
    "plt.xlabel('Number of Features')"
   ]
  },
  {
   "cell_type": "code",
   "execution_count": 23,
   "metadata": {},
   "outputs": [
    {
     "data": {
      "text/plain": [
       "Text(0.5, 0, 'Number of Features')"
      ]
     },
     "execution_count": 23,
     "metadata": {},
     "output_type": "execute_result"
    },
    {
     "data": {
      "image/png": "[encoded data removed]",
      "text/plain": [
       "<Figure size 432x288 with 1 Axes>"
      ]
     },
     "metadata": {
      "needs_background": "light"
     },
     "output_type": "display_data"
    }
   ],
   "source": [
    "plt.plot(range(1,6),all_fp)\n",
    "plt.title('Number of Features vs. False Positive Rate (Bayes = 0.5)')\n",
    "plt.ylabel('False Positive Rate')\n",
    "plt.xlabel('Number of Features')"
   ]
  },
  {
   "cell_type": "code",
   "execution_count": 24,
   "metadata": {},
   "outputs": [
    {
     "data": {
      "text/plain": [
       "Text(0.5, 0, 'Number of Features')"
      ]
     },
     "execution_count": 24,
     "metadata": {},
     "output_type": "execute_result"
    },
    {
     "data": {
      "image/png": "[encoded data removed]",
      "text/plain": [
       "<Figure size 432x288 with 1 Axes>"
      ]
     },
     "metadata": {
      "needs_background": "light"
     },
     "output_type": "display_data"
    }
   ],
   "source": [
    "plt.plot(range(1,6),all_fn)\n",
    "plt.title('Number of Features vs. False Negative Rate (Bayes = 0.5)')\n",
    "plt.ylabel('False Negative Rate')\n",
    "plt.xlabel('Number of Features')"
   ]
  },
  {
   "cell_type": "code",
   "execution_count": 26,
   "metadata": {},
   "outputs": [
    {
     "name": "stdout",
     "output_type": "stream",
     "text": [
      "Optimization terminated successfully.\n",
      "         Current function value: 0.463377\n",
      "         Iterations 6\n"
     ]
    },
    {
     "data": {
      "text/html": [
       "<table class=\"simpletable\">\n",
       "<caption>Logit Regression Results</caption>\n",
       "<tr>\n",
       "  <th>Dep. Variable:</th>        <td>stroke</td>      <th>  No. Observations:  </th>  <td>   336</td>  \n",
       "</tr>\n",
       "<tr>\n",
       "  <th>Model:</th>                 <td>Logit</td>      <th>  Df Residuals:      </th>  <td>   331</td>  \n",
       "</tr>\n",
       "<tr>\n",
       "  <th>Method:</th>                 <td>MLE</td>       <th>  Df Model:          </th>  <td>     4</td>  \n",
       "</tr>\n",
       "<tr>\n",
       "  <th>Date:</th>            <td>Wed, 02 Jun 2021</td> <th>  Pseudo R-squ.:     </th>  <td>0.3312</td>  \n",
       "</tr>\n",
       "<tr>\n",
       "  <th>Time:</th>                <td>15:39:00</td>     <th>  Log-Likelihood:    </th> <td> -155.69</td> \n",
       "</tr>\n",
       "<tr>\n",
       "  <th>converged:</th>             <td>True</td>       <th>  LL-Null:           </th> <td> -232.80</td> \n",
       "</tr>\n",
       "<tr>\n",
       "  <th>Covariance Type:</th>     <td>nonrobust</td>    <th>  LLR p-value:       </th> <td>2.542e-32</td>\n",
       "</tr>\n",
       "</table>\n",
       "<table class=\"simpletable\">\n",
       "<tr>\n",
       "         <td></td>            <th>coef</th>     <th>std err</th>      <th>z</th>      <th>P>|z|</th>  <th>[0.025</th>    <th>0.975]</th>  \n",
       "</tr>\n",
       "<tr>\n",
       "  <th>Intercept</th>       <td>   -4.9352</td> <td>    0.613</td> <td>   -8.056</td> <td> 0.000</td> <td>   -6.136</td> <td>   -3.735</td>\n",
       "</tr>\n",
       "<tr>\n",
       "  <th>age</th>             <td>    0.0729</td> <td>    0.009</td> <td>    7.894</td> <td> 0.000</td> <td>    0.055</td> <td>    0.091</td>\n",
       "</tr>\n",
       "<tr>\n",
       "  <th>hypertension</th>    <td>    0.6727</td> <td>    0.407</td> <td>    1.653</td> <td> 0.098</td> <td>   -0.125</td> <td>    1.471</td>\n",
       "</tr>\n",
       "<tr>\n",
       "  <th>HeartDisease</th>    <td>    0.5652</td> <td>    0.503</td> <td>    1.124</td> <td> 0.261</td> <td>   -0.420</td> <td>    1.551</td>\n",
       "</tr>\n",
       "<tr>\n",
       "  <th>AvgGlucoseLevel</th> <td>    0.0051</td> <td>    0.003</td> <td>    1.853</td> <td> 0.064</td> <td>   -0.000</td> <td>    0.010</td>\n",
       "</tr>\n",
       "</table>"
      ],
      "text/plain": [
       "<class 'statsmodels.iolib.summary.Summary'>\n",
       "\"\"\"\n",
       "                           Logit Regression Results                           \n",
       "==============================================================================\n",
       "Dep. Variable:                 stroke   No. Observations:                  336\n",
       "Model:                          Logit   Df Residuals:                      331\n",
       "Method:                           MLE   Df Model:                            4\n",
       "Date:                Wed, 02 Jun 2021   Pseudo R-squ.:                  0.3312\n",
       "Time:                        15:39:00   Log-Likelihood:                -155.69\n",
       "converged:                       True   LL-Null:                       -232.80\n",
       "Covariance Type:            nonrobust   LLR p-value:                 2.542e-32\n",
       "===================================================================================\n",
       "                      coef    std err          z      P>|z|      [0.025      0.975]\n",
       "-----------------------------------------------------------------------------------\n",
       "Intercept          -4.9352      0.613     -8.056      0.000      -6.136      -3.735\n",
       "age                 0.0729      0.009      7.894      0.000       0.055       0.091\n",
       "hypertension        0.6727      0.407      1.653      0.098      -0.125       1.471\n",
       "HeartDisease        0.5652      0.503      1.124      0.261      -0.420       1.551\n",
       "AvgGlucoseLevel     0.0051      0.003      1.853      0.064      -0.000       0.010\n",
       "===================================================================================\n",
       "\"\"\""
      ]
     },
     "execution_count": 26,
     "metadata": {},
     "output_type": "execute_result"
    }
   ],
   "source": [
    "final_formula = 'stroke~age + hypertension + HeartDisease + AvgGlucoseLevel'\n",
    "model_final = stats.logit(formula = final_formula,data = train).fit()\n",
    "model_final.summary()\n"
   ]
  },
  {
   "cell_type": "raw",
   "metadata": {},
   "source": [
    "The results are inconclusive the model above has the highest accuracy, most of the parameters are not significant.\n",
    "<br> <br>\n",
    " It is possible that the predictor age has a larger effect size than the others and we only had the power to detect this difference. The other predictors might have a lower effect size and only with a larger sample size can they be detected.\n",
    "<br> <br>\n",
    "In the future it might be fruitful to run the model on a larger data set so we can have the statistical power to detect true effects."
   ]
  },
  {
   "cell_type": "code",
   "execution_count": null,
   "metadata": {},
   "outputs": [],
   "source": []
  }
 ],
 "metadata": {
  "kernelspec": {
   "display_name": "Python 3",
   "language": "python",
   "name": "python3"
  },
  "language_info": {
   "codemirror_mode": {
    "name": "ipython",
    "version": 3
   },
   "file_extension": ".py",
   "mimetype": "text/x-python",
   "name": "python",
   "nbconvert_exporter": "python",
   "pygments_lexer": "ipython3",
   "version": "3.8.6"
  }
 },
 "nbformat": 4,
 "nbformat_minor": 4
}
